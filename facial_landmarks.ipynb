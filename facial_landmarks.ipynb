{
 "cells": [
  {
   "cell_type": "code",
   "execution_count": 1,
   "metadata": {},
   "outputs": [],
   "source": [
    "import torch\n",
    "import torchvision\n",
    "import numpy as np\n",
    "import torch.nn as nn\n",
    "import torch.optim as optim\n",
    "from torch.utils.data import DataLoader\n",
    "from transforms import Rescale, RandomCrop, RandomHorizontalFlip, ToTensor\n",
    "from dataset import FaceLandmarksDataset\n",
    "from torchvision.transforms import Compose\n",
    "from utils import train_net\n",
    "from pathlib import Path"
   ]
  },
  {
   "cell_type": "code",
   "execution_count": 2,
   "metadata": {},
   "outputs": [],
   "source": [
    "LANDMARKS_FRAME_PATH = 'data/list_landmarks_align_celeba.csv'\n",
    "IMG_FOLDER_PATH = 'data/img_align_celeba/img_align_celeba'\n",
    "WEIGHTS_PATH = 'weights/resnet18.pth'\n",
    "# TRAIN_IDX = (0, 162770)\n",
    "TRAIN_IDX = (0, 200)\n",
    "# VAL_IDX = (162770, 182637)\n",
    "VAL_IDX = (162770, 162970)\n",
    "# TEST_IDX = (182637, 202599)\n",
    "TEST_IDX = (182637, 182837)\n",
    "N_TARGETS = 10"
   ]
  },
  {
   "cell_type": "code",
   "execution_count": 3,
   "metadata": {},
   "outputs": [
    {
     "data": {
      "text/plain": [
       "device(type='cpu')"
      ]
     },
     "execution_count": 3,
     "metadata": {},
     "output_type": "execute_result"
    }
   ],
   "source": [
    "device = torch.device(\"cuda:0\" if torch.cuda.is_available() else \"cpu\")\n",
    "device"
   ]
  },
  {
   "cell_type": "code",
   "execution_count": 4,
   "metadata": {},
   "outputs": [],
   "source": [
    "transform = Compose(\n",
    "    [\n",
    "     Rescale((224, 224)),\n",
    "     ToTensor(),\n",
    "    ]\n",
    ")\n",
    "\n",
    "transform_augment = Compose(\n",
    "    [\n",
    "     Rescale((256, 256)),\n",
    "     RandomCrop(224),\n",
    "     RandomHorizontalFlip(),\n",
    "     ToTensor(),\n",
    "    ]\n",
    ")"
   ]
  },
  {
   "cell_type": "code",
   "execution_count": 5,
   "metadata": {},
   "outputs": [],
   "source": [
    "trainset = FaceLandmarksDataset(LANDMARKS_FRAME_PATH, IMG_FOLDER_PATH, transform_augment, TRAIN_IDX)\n",
    "trainloader = torch.utils.data.DataLoader(trainset, batch_size=4,\n",
    "                                          shuffle=True, num_workers=8)"
   ]
  },
  {
   "cell_type": "code",
   "execution_count": 6,
   "metadata": {},
   "outputs": [],
   "source": [
    "valset = FaceLandmarksDataset(LANDMARKS_FRAME_PATH, IMG_FOLDER_PATH, transform, VAL_IDX)\n",
    "valloader = torch.utils.data.DataLoader(valset, batch_size=4,\n",
    "                                          shuffle=False, num_workers=8)"
   ]
  },
  {
   "cell_type": "code",
   "execution_count": 7,
   "metadata": {},
   "outputs": [],
   "source": [
    "net = torchvision.models.resnet18(pretrained=True)\n",
    "net.fc = nn.Linear(in_features=512, out_features=N_TARGETS, bias=True)\n",
    "net = net.double()"
   ]
  },
  {
   "cell_type": "code",
   "execution_count": 8,
   "metadata": {},
   "outputs": [],
   "source": [
    "criterion = nn.MSELoss()\n",
    "optimizer = optim.Adam(net.parameters(), lr=3e-4)\n",
    "scheduler = optim.lr_scheduler.ReduceLROnPlateau(optimizer, factor=0.5, patience=3, threshold=0.001)"
   ]
  },
  {
   "cell_type": "code",
   "execution_count": 9,
   "metadata": {},
   "outputs": [
    {
     "name": "stdout",
     "output_type": "stream",
     "text": [
      "[1,    50] train_loss: 14388.361, val_loss: 13444.618\n",
      "[2,    50] train_loss: 12068.940, val_loss: 11003.299\n",
      "[3,    50] train_loss: 9675.384, val_loss: 8510.231\n",
      "[4,    50] train_loss: 7578.339, val_loss: 6453.774\n",
      "[5,    50] train_loss: 5776.222, val_loss: 4451.025\n",
      "[6,    50] train_loss: 4309.752, val_loss: 3824.105\n",
      "[7,    50] train_loss: 3120.687, val_loss: 2550.840\n",
      "[8,    50] train_loss: 2207.872, val_loss: 1460.696\n",
      "[9,    50] train_loss: 1546.898, val_loss: 747.411\n",
      "[10,    50] train_loss: 1084.568, val_loss: 701.983\n",
      "[11,    50] train_loss: 757.760, val_loss: 531.980\n",
      "[12,    50] train_loss: 543.816, val_loss: 405.589\n",
      "[13,    50] train_loss: 418.999, val_loss: 73.031\n",
      "[14,    50] train_loss: 334.299, val_loss: 101.128\n",
      "[15,    50] train_loss: 280.896, val_loss: 118.642\n",
      "[16,    50] train_loss: 243.851, val_loss: 191.922\n",
      "[17,    50] train_loss: 236.617, val_loss: 167.223\n",
      "[18,    50] train_loss: 218.490, val_loss: 168.984\n",
      "[19,    50] train_loss: 203.062, val_loss: 118.374\n",
      "[20,    50] train_loss: 189.083, val_loss: 126.338\n",
      "[21,    50] train_loss: 180.035, val_loss: 136.219\n",
      "[22,    50] train_loss: 172.096, val_loss: 111.787\n",
      "[23,    50] train_loss: 168.654, val_loss: 141.066\n",
      "[24,    50] train_loss: 166.663, val_loss: 139.495\n",
      "[25,    50] train_loss: 159.904, val_loss: 125.740\n",
      "[26,    50] train_loss: 154.844, val_loss: 114.552\n",
      "[27,    50] train_loss: 150.028, val_loss: 133.008\n",
      "[28,    50] train_loss: 150.622, val_loss: 121.091\n",
      "[29,    50] train_loss: 147.768, val_loss: 108.266\n",
      "[30,    50] train_loss: 145.605, val_loss: 92.980\n",
      "Finished training\n"
     ]
    },
    {
     "data": {
      "image/png": "[encoded data removed]",
      "text/plain": [
       "<Figure size 432x288 with 1 Axes>"
      ]
     },
     "metadata": {
      "needs_background": "light"
     },
     "output_type": "display_data"
    }
   ],
   "source": [
    "train_net(net, trainloader, valloader, criterion, optimizer, device, \n",
    "          num_epochs=30, lr_scheduler=scheduler, eval_period=len(trainloader))"
   ]
  },
  {
   "cell_type": "code",
   "execution_count": 10,
   "metadata": {},
   "outputs": [],
   "source": [
    "Path('weights').mkdir(exist_ok=True)\n",
    "torch.save(net.state_dict(), WEIGHTS_PATH)"
   ]
  },
  {
   "cell_type": "markdown",
   "metadata": {},
   "source": [
    "## Evaluating"
   ]
  },
  {
   "cell_type": "code",
   "execution_count": 11,
   "metadata": {},
   "outputs": [
    {
     "data": {
      "text/plain": [
       "device(type='cpu')"
      ]
     },
     "execution_count": 11,
     "metadata": {},
     "output_type": "execute_result"
    }
   ],
   "source": [
    "device = torch.device(\"cuda:0\" if torch.cuda.is_available() else \"cpu\")\n",
    "device"
   ]
  },
  {
   "cell_type": "code",
   "execution_count": 12,
   "metadata": {},
   "outputs": [],
   "source": [
    "net = torchvision.models.resnet18()\n",
    "net.fc = nn.Linear(in_features=512, out_features=N_TARGETS, bias=True)\n",
    "net = net.double()"
   ]
  },
  {
   "cell_type": "code",
   "execution_count": 13,
   "metadata": {},
   "outputs": [],
   "source": [
    "net.load_state_dict(torch.load(WEIGHTS_PATH))\n",
    "net.to(device)\n",
    "net = net.eval()"
   ]
  },
  {
   "cell_type": "code",
   "execution_count": 14,
   "metadata": {},
   "outputs": [],
   "source": [
    "testset = FaceLandmarksDataset(LANDMARKS_FRAME_PATH, IMG_FOLDER_PATH, transform, TEST_IDX)\n",
    "testloader = torch.utils.data.DataLoader(testset, batch_size=4,\n",
    "                                          shuffle=False, num_workers=8)"
   ]
  },
  {
   "cell_type": "code",
   "execution_count": 15,
   "metadata": {},
   "outputs": [
    {
     "name": "stdout",
     "output_type": "stream",
     "text": [
      "MSE of the network on test images: 103.442479\n",
      "RMSE of the network on test images: 10.170668\n"
     ]
    }
   ],
   "source": [
    "test_loss = 0\n",
    "criterion = nn.MSELoss()\n",
    "with torch.no_grad():\n",
    "    for data in testloader:\n",
    "        images, labels = data['image'].to(device), data['landmarks'].to(device)\n",
    "        labels = labels.reshape(labels.shape[0], -1)\n",
    "        outputs = net(images)\n",
    "        test_loss += criterion(outputs, labels)\n",
    "\n",
    "print('MSE of the network on test images: %f' % (test_loss / len(testloader)))\n",
    "print('RMSE of the network on test images: %f' % (np.sqrt(test_loss / len(testloader))))"
   ]
  },
  {
   "cell_type": "code",
   "execution_count": null,
   "metadata": {},
   "outputs": [],
   "source": []
  }
 ],
 "metadata": {
  "kernelspec": {
   "display_name": "Python 3",
   "language": "python",
   "name": "python3"
  },
  "language_info": {
   "codemirror_mode": {
    "name": "ipython",
    "version": 3
   },
   "file_extension": ".py",
   "mimetype": "text/x-python",
   "name": "python",
   "nbconvert_exporter": "python",
   "pygments_lexer": "ipython3",
   "version": "3.8.1"
  }
 },
 "nbformat": 4,
 "nbformat_minor": 4
}
